{
  "nbformat": 4,
  "nbformat_minor": 0,
  "metadata": {
    "colab": {
      "provenance": [],
      "toc_visible": true,
      "collapsed_sections": [
        "TAOHPcaK6sDR"
      ],
      "mount_file_id": "1GQbCA6snjeHWgi7APyrnITbqKj2g8zBg",
      "authorship_tag": "ABX9TyPGYR8D+MlgAVO2mdHryHZ1",
      "include_colab_link": true
    },
    "kernelspec": {
      "name": "python3",
      "display_name": "Python 3"
    },
    "language_info": {
      "name": "python"
    }
  },
  "cells": [
    {
      "cell_type": "markdown",
      "metadata": {
        "id": "view-in-github",
        "colab_type": "text"
      },
      "source": [
        "<a href=\"https://colab.research.google.com/github/nikhilnair31/RM294---Optimatization-1-Group-Project-1/blob/main/RM294_Optimization_1_Project_1.ipynb\" target=\"_parent\"><img src=\"https://colab.research.google.com/assets/colab-badge.svg\" alt=\"Open In Colab\"/></a>"
      ]
    },
    {
      "cell_type": "markdown",
      "source": [
        "# **Optimisation Problem**\n",
        "\n",
        "To formulate the marketing budget allocation problem as a linear program (LP), we need to define decision variables, objective function, and constraints. Let's denote the budget allocation for each medium as follows:\n",
        "\n",
        "***Variables***:\n",
        "\n",
        "$x_1$: Budget allocated to Print. </br>\n",
        "$x_2$: Budget allocated to TV. </br>\n",
        "$x_3$: Budget allocated to SEO. </br>\n",
        "$x_4$: Budget allocated to AdWords.</br>\n",
        "$x_5$: Budget allocated to Facebook.</br>\n",
        "$x_6$: Budget allocated to LinkedIn.</br>\n",
        "$x_7$: Budget allocated to Instagram.</br>\n",
        "$x_8$: Budget allocated to Snapchat.</br>\n",
        "$x_9$: Budget allocated to Twitter.</br>\n",
        "$x_{10}$: Budget allocated to Email.</br>\n",
        "\n",
        "***Objective Function***:\n",
        "The objective is to maximize the overall ROI: </br>\n",
        "               <h3><center> $ Maximize &nbsp; &nbsp; ROI_i * x_i \\quad \\text{for all } i = 1, 2, \\ldots, 10\\$</center></h3>\n",
        "\n",
        "***Constraints***:\n",
        "1. **Budget Constraint**:  $\\sum_{i=1}^{10} x_i \\leq 10\\$\n",
        "    \n",
        "2. **TV and Print Constraint**: $x_1 + x_2 \\leq x_5 + x_{10}$\n",
        "\n",
        "3. **Social media and SEO/AdWords Constraint**: $\\sum_{i=5}^{9} x_i \\geq 2*(x_3 + x_4)\\$\n",
        "\n",
        "4. **Individual Budget Constraints**: $x_i \\leq  3 \\quad \\text{for all } i = 1, 2, \\ldots, 10\\$\n",
        "\n",
        "4. **Positivity Constraints**: $x_i \\geq 0 \\quad \\text{for all } i = 1, 2, \\ldots, 10\\$"
      ],
      "metadata": {
        "id": "Jjah-bsvE0Ok"
      }
    },
    {
      "cell_type": "markdown",
      "source": [
        "## Setup"
      ],
      "metadata": {
        "id": "TAOHPcaK6sDR"
      }
    },
    {
      "cell_type": "code",
      "execution_count": 1,
      "metadata": {
        "colab": {
          "base_uri": "https://localhost:8080/"
        },
        "id": "ePY1tY0H6oDO",
        "outputId": "ff75c2b0-304e-4436-84d2-fa810346ac54"
      },
      "outputs": [
        {
          "output_type": "stream",
          "name": "stdout",
          "text": [
            "Collecting gurobipy\n",
            "  Downloading gurobipy-10.0.3-cp310-cp310-manylinux2014_x86_64.whl (12.7 MB)\n",
            "\u001b[2K     \u001b[90m━━━━━━━━━━━━━━━━━━━━━━━━━━━━━━━━━━━━━━━━\u001b[0m \u001b[32m12.7/12.7 MB\u001b[0m \u001b[31m70.0 MB/s\u001b[0m eta \u001b[36m0:00:00\u001b[0m\n",
            "\u001b[?25hInstalling collected packages: gurobipy\n",
            "Successfully installed gurobipy-10.0.3\n"
          ]
        }
      ],
      "source": [
        "!pip install gurobipy"
      ]
    },
    {
      "cell_type": "code",
      "source": [
        "import numpy as np\n",
        "import gurobipy as gp\n",
        "import pandas as pd"
      ],
      "metadata": {
        "id": "RL7h3lay6q-B"
      },
      "execution_count": 2,
      "outputs": []
    },
    {
      "cell_type": "markdown",
      "source": [
        "## Data Loading"
      ],
      "metadata": {
        "id": "L7PmnGarI0Wr"
      }
    },
    {
      "cell_type": "code",
      "source": [
        "# Loading ROI data in CSV\n",
        "roi_csv_filepath = r'/content/drive/MyDrive/Colab Notebooks/2. Fall/O1/Data/ROI_data.csv'\n",
        "roi_csv_file_df = pd.read_csv(roi_csv_filepath)"
      ],
      "metadata": {
        "id": "t5cAFPcxI2MB"
      },
      "execution_count": 3,
      "outputs": []
    },
    {
      "cell_type": "markdown",
      "source": [
        "## Question 1, 2, 3 - Estimates from 1st Firm"
      ],
      "metadata": {
        "id": "ABPlCOlN6uvi"
      }
    },
    {
      "cell_type": "code",
      "execution_count": 9,
      "metadata": {
        "id": "cQDyGafC3D99",
        "colab": {
          "base_uri": "https://localhost:8080/"
        },
        "outputId": "8095de62-904e-495c-9676-fd25c9b389af"
      },
      "outputs": [
        {
          "output_type": "stream",
          "name": "stdout",
          "text": [
            "Restricted license - for non-production use only - expires 2024-10-28\n"
          ]
        }
      ],
      "source": [
        "# Create a Gurobi model\n",
        "ojMod1 = gp.Model(\"Budget_Allocation\")"
      ]
    },
    {
      "cell_type": "code",
      "execution_count": 10,
      "metadata": {
        "id": "GYOkELEaFDv1"
      },
      "outputs": [],
      "source": [
        "# Defining decision variables\n",
        "roi_values_1 = roi_csv_file_df.iloc[0, -10:].tolist()\n",
        "num_vars = len(roi_values_1)\n",
        "ojMod1X = ojMod1.addMVar(num_vars, name=\"x\")"
      ]
    },
    {
      "cell_type": "code",
      "execution_count": 11,
      "metadata": {
        "id": "LsyXyoGEFDv2"
      },
      "outputs": [],
      "source": [
        "# Setting the objective function\n",
        "obj_coeffs1 = roi_values_1\n",
        "ojMod1.setObjective(gp.quicksum(obj_coeffs1[i] * ojMod1X[i] for i in range(num_vars)), sense=gp.GRB.MAXIMIZE)"
      ]
    },
    {
      "cell_type": "code",
      "execution_count": 12,
      "metadata": {
        "id": "tEbGjrePFDv2"
      },
      "outputs": [],
      "source": [
        "ojMod1.addConstr(gp.quicksum(ojMod1X[i] for i in range(num_vars)) <= 10, name=\"Budget_Constr\")\n",
        "ojMod1.addConstr(ojMod1X[0] + ojMod1X[1] <= ojMod1X[4] + ojMod1X[9], name=\"Print_TV_Constr\")\n",
        "ojMod1.addConstr(gp.quicksum(ojMod1X[i] for i in range(4, 9)) >= 2*(ojMod1X[2] + ojMod1X[3]), name=\"Social_Media_Constr\")\n",
        "for i in range(num_vars):\n",
        "    ojMod1.addConstr(ojMod1X[i] <= 3, name=f\"Budget_Constraint_{i}\")"
      ]
    },
    {
      "cell_type": "code",
      "execution_count": 13,
      "metadata": {
        "id": "Ph4W1R5VFDv3"
      },
      "outputs": [],
      "source": [
        "ojMod1.Params.OutputFlag = 0\n",
        "ojMod1.optimize()"
      ]
    },
    {
      "cell_type": "code",
      "execution_count": 14,
      "metadata": {
        "colab": {
          "base_uri": "https://localhost:8080/"
        },
        "id": "WL6bdnyOFDv4",
        "outputId": "24d27fc1-2aca-4353-9a57-da626926279c"
      },
      "outputs": [
        {
          "output_type": "execute_result",
          "data": {
            "text/plain": [
              "0.45600000000000007"
            ]
          },
          "metadata": {},
          "execution_count": 14
        }
      ],
      "source": [
        "ojMod1.objVal"
      ]
    },
    {
      "cell_type": "code",
      "execution_count": 15,
      "metadata": {
        "colab": {
          "base_uri": "https://localhost:8080/"
        },
        "id": "4dShW63EFDv5",
        "outputId": "d9587d71-7193-40a4-82ed-cce6008a3c2d"
      },
      "outputs": [
        {
          "output_type": "execute_result",
          "data": {
            "text/plain": [
              "array([0., 3., 0., 1., 0., 0., 3., 0., 0., 3.])"
            ]
          },
          "metadata": {},
          "execution_count": 15
        }
      ],
      "source": [
        "ojMod1X.x"
      ]
    },
    {
      "cell_type": "code",
      "source": [
        "budget_alloc_1 = [ojMod1X[i].x for i in range(num_vars)]\n",
        "\n",
        "df_1st = pd.DataFrame({\n",
        "    \"Channel\": [\"Print\", \"TV\", \"SEO\", \"AdWords\" ,\"Facebook\", \"LinkedIn\", \"Instagram\", \"Snapchat\", \"Twitter\", \"Email\"],\n",
        "    \"Budget Alloc ($M)\": budget_alloc_1\n",
        "})\n",
        "\n",
        "# Calculate the total budget and total ROI\n",
        "budget_1 = sum(budget_alloc_1)\n",
        "roi_1 = sum(obj_coeffs1[i] * budget_alloc_1[i] for i in range(num_vars))\n",
        "\n",
        "# Print the DataFrame\n",
        "print(f\"1st Firm's Optimal Budget Allocation\\n{df_1st}\")\n",
        "print(f\"{'Total Budget':25} ${budget_1:.3f}M\")\n",
        "print(f\"{'Total ROI':25} ${roi_1:.3f}M\")"
      ],
      "metadata": {
        "colab": {
          "base_uri": "https://localhost:8080/"
        },
        "id": "aRAky13aFoCW",
        "outputId": "c056b19c-3cad-4625-8535-da8665a16951"
      },
      "execution_count": 37,
      "outputs": [
        {
          "output_type": "stream",
          "name": "stdout",
          "text": [
            "1st Firm's Optimal Budget Allocation\n",
            "     Channel Budget Alloc ($M)\n",
            "0      Print               0.0\n",
            "1         TV               3.0\n",
            "2        SEO               0.0\n",
            "3    AdWords               1.0\n",
            "4   Facebook               0.0\n",
            "5   LinkedIn               0.0\n",
            "6  Instagram               3.0\n",
            "7   Snapchat               0.0\n",
            "8    Twitter               0.0\n",
            "9      Email               3.0\n",
            "Total Budget              $10.000M\n",
            "Total ROI                 $0.456M\n"
          ]
        }
      ]
    },
    {
      "cell_type": "markdown",
      "source": [
        "## Question 4 - Estimates from 2nd Firm"
      ],
      "metadata": {
        "id": "BtmILs_Q-aE4"
      }
    },
    {
      "cell_type": "code",
      "execution_count": 17,
      "metadata": {
        "id": "BJ-S5pw--b5v"
      },
      "outputs": [],
      "source": [
        "# Create a Gurobi model\n",
        "ojMod2 = gp.Model(\"Budget_Allocation\")"
      ]
    },
    {
      "cell_type": "code",
      "execution_count": 18,
      "metadata": {
        "id": "bknEppHt-b5w"
      },
      "outputs": [],
      "source": [
        "# Define decision variables\n",
        "roi_values_2 = roi_csv_file_df.iloc[1, -10:].tolist()\n",
        "num_vars = len(roi_values_1)\n",
        "ojMod2X = ojMod2.addMVar(num_vars, name=\"x\")"
      ]
    },
    {
      "cell_type": "code",
      "execution_count": 19,
      "metadata": {
        "id": "Z9RPaPxd-b5w"
      },
      "outputs": [],
      "source": [
        "# Set the objective function\n",
        "obj_coeffs2 = roi_csv_file_df.iloc[1, -10:].tolist()\n",
        "ojMod2.setObjective(gp.quicksum(obj_coeffs2[i] * ojMod2X[i] for i in range(num_vars)), sense=gp.GRB.MAXIMIZE)"
      ]
    },
    {
      "cell_type": "code",
      "execution_count": 20,
      "metadata": {
        "id": "q_bHR8y5-b5x"
      },
      "outputs": [],
      "source": [
        "ojMod2.addConstr(gp.quicksum(ojMod2X[i] for i in range(num_vars)) <= 10, name=\"Budget_Constr\")\n",
        "ojMod2.addConstr(ojMod2X[0] + ojMod2X[1] <= ojMod2X[4] + ojMod2X[9], name=\"Print_TV_Constr\")\n",
        "ojMod2.addConstr(gp.quicksum(ojMod2X[i] for i in range(4, 9)) >= 2*(ojMod2X[2] + ojMod2X[3]), name=\"Social_Media_Constr\")\n",
        "for i in range(num_vars):\n",
        "    ojMod2.addConstr(ojMod2X[i] <= 3, name=f\"Budget_Constraint_{i}\")"
      ]
    },
    {
      "cell_type": "code",
      "execution_count": 21,
      "metadata": {
        "id": "V5rIya-X-b5x"
      },
      "outputs": [],
      "source": [
        "ojMod2.Params.OutputFlag = 0\n",
        "ojMod2.optimize()"
      ]
    },
    {
      "cell_type": "code",
      "execution_count": 22,
      "metadata": {
        "colab": {
          "base_uri": "https://localhost:8080/"
        },
        "outputId": "375c246a-25ea-4129-93d6-190fc899ea9b",
        "id": "dofGUCWa-b5x"
      },
      "outputs": [
        {
          "output_type": "execute_result",
          "data": {
            "text/plain": [
              "0.45600000000000007"
            ]
          },
          "metadata": {},
          "execution_count": 22
        }
      ],
      "source": [
        "ojMod2.objVal"
      ]
    },
    {
      "cell_type": "code",
      "execution_count": 23,
      "metadata": {
        "colab": {
          "base_uri": "https://localhost:8080/"
        },
        "outputId": "39f2697b-c0ca-4308-dd2d-1e905501ca43",
        "id": "kzG9cLty-b5y"
      },
      "outputs": [
        {
          "output_type": "execute_result",
          "data": {
            "text/plain": [
              "array([3., 0., 0., 1., 3., 3., 0., 0., 0., 0.])"
            ]
          },
          "metadata": {},
          "execution_count": 23
        }
      ],
      "source": [
        "ojMod2X.x"
      ]
    },
    {
      "cell_type": "code",
      "source": [
        "budget_alloc_2 = [ojMod2X[i].x for i in range(num_vars)]\n",
        "\n",
        "df_2nd = pd.DataFrame({\n",
        "    \"Channel\": [\"Print\", \"TV\", \"SEO\", \"AdWords\" ,\"Facebook\", \"LinkedIn\", \"Instagram\", \"Snapchat\", \"Twitter\", \"Email\"],\n",
        "    \"Budget Alloc ($M)\": budget_alloc_2\n",
        "})\n",
        "\n",
        "# Calculate the total budget and total ROI\n",
        "budget_2 = sum(budget_alloc_2)\n",
        "roi_2 = sum(obj_coeffs2[i] * budget_alloc_2[i] for i in range(num_vars))\n",
        "\n",
        "# Print the DataFrame\n",
        "print(f\"2nd Firm's Optimal Budget Allocation\\n{df_2nd}\")\n",
        "print(f\"{'Total Budget':25} ${budget_2:.3f}M\")\n",
        "print(f\"{'Total ROI':25} ${roi_2:.3f}M\")"
      ],
      "metadata": {
        "colab": {
          "base_uri": "https://localhost:8080/"
        },
        "id": "lx5Ei8O9IBYL",
        "outputId": "73a39203-7540-4d4d-b184-eca64bced6ec"
      },
      "execution_count": 38,
      "outputs": [
        {
          "output_type": "stream",
          "name": "stdout",
          "text": [
            "2nd Firm's Optimal Budget Allocation\n",
            "     Channel Budget Alloc ($M)\n",
            "0      Print               3.0\n",
            "1         TV               0.0\n",
            "2        SEO               0.0\n",
            "3    AdWords               1.0\n",
            "4   Facebook               3.0\n",
            "5   LinkedIn               3.0\n",
            "6  Instagram               0.0\n",
            "7   Snapchat               0.0\n",
            "8    Twitter               0.0\n",
            "9      Email               0.0\n",
            "Total Budget              $10.000M\n",
            "Total ROI                 $0.456M\n"
          ]
        }
      ]
    },
    {
      "cell_type": "markdown",
      "source": [
        "## Question 5 - Allocation Comparison, Combining ROIs and Allocations, Checking for 3rd Constraints Significance"
      ],
      "metadata": {
        "id": "YDvafnsVNN78"
      }
    },
    {
      "cell_type": "markdown",
      "source": [
        "### Comparison"
      ],
      "metadata": {
        "id": "gJrK-PcROWjZ"
      }
    },
    {
      "cell_type": "code",
      "source": [
        "df_1st_and_2nd = pd.merge(df_1st, df_2nd, on='Channel', suffixes=('_df1', '_df2'))\n",
        "df_1st_and_2nd.rename(\n",
        "    columns={\n",
        "      'Budget Alloc ($M)_df1': 'Budget Alloc ($M) 1st Firm',\n",
        "      'Budget Alloc ($M)_df2': 'Budget Alloc ($M) 2nd Firm'\n",
        "    },\n",
        "    inplace=True\n",
        ")\n",
        "\n",
        "df_1st_and_2nd['ROI 1st Firm'] = obj_coeffs1\n",
        "df_1st_and_2nd['ROI 2nd Firm'] = obj_coeffs2\n",
        "\n",
        "df_1st_and_2nd = df_1st_and_2nd[['Channel', 'ROI 1st Firm', 'Budget Alloc ($M) 1st Firm', 'ROI 2nd Firm', 'Budget Alloc ($M) 2nd Firm']]\n",
        "df_1st_and_2nd"
      ],
      "metadata": {
        "colab": {
          "base_uri": "https://localhost:8080/",
          "height": 363
        },
        "id": "sCAB2UduI_8w",
        "outputId": "a52ead8e-4688-4967-ba4c-6a6f2ba3d6dc"
      },
      "execution_count": 25,
      "outputs": [
        {
          "output_type": "execute_result",
          "data": {
            "text/plain": [
              "     Channel  ROI 1st Firm Budget Alloc ($M) 1st Firm  ROI 2nd Firm  \\\n",
              "0      Print         0.031                        0.0         0.049   \n",
              "1         TV         0.049                        3.0         0.023   \n",
              "2        SEO         0.024                        0.0         0.024   \n",
              "3    AdWords         0.039                        1.0         0.039   \n",
              "4   Facebook         0.016                        0.0         0.044   \n",
              "5   LinkedIn         0.024                        0.0         0.046   \n",
              "6  Instagram         0.046                        3.0         0.026   \n",
              "7   Snapchat         0.026                        0.0         0.019   \n",
              "8    Twitter         0.033                        0.0         0.037   \n",
              "9      Email         0.044                        3.0         0.026   \n",
              "\n",
              "  Budget Alloc ($M) 2nd Firm  \n",
              "0                        3.0  \n",
              "1                        0.0  \n",
              "2                        0.0  \n",
              "3                        1.0  \n",
              "4                        3.0  \n",
              "5                        3.0  \n",
              "6                        0.0  \n",
              "7                        0.0  \n",
              "8                        0.0  \n",
              "9                        0.0  "
            ],
            "text/html": [
              "\n",
              "  <div id=\"df-e1dc3c89-f3bb-4bab-b861-aca18e9ea202\" class=\"colab-df-container\">\n",
              "    <div>\n",
              "<style scoped>\n",
              "    .dataframe tbody tr th:only-of-type {\n",
              "        vertical-align: middle;\n",
              "    }\n",
              "\n",
              "    .dataframe tbody tr th {\n",
              "        vertical-align: top;\n",
              "    }\n",
              "\n",
              "    .dataframe thead th {\n",
              "        text-align: right;\n",
              "    }\n",
              "</style>\n",
              "<table border=\"1\" class=\"dataframe\">\n",
              "  <thead>\n",
              "    <tr style=\"text-align: right;\">\n",
              "      <th></th>\n",
              "      <th>Channel</th>\n",
              "      <th>ROI 1st Firm</th>\n",
              "      <th>Budget Alloc ($M) 1st Firm</th>\n",
              "      <th>ROI 2nd Firm</th>\n",
              "      <th>Budget Alloc ($M) 2nd Firm</th>\n",
              "    </tr>\n",
              "  </thead>\n",
              "  <tbody>\n",
              "    <tr>\n",
              "      <th>0</th>\n",
              "      <td>Print</td>\n",
              "      <td>0.031</td>\n",
              "      <td>0.0</td>\n",
              "      <td>0.049</td>\n",
              "      <td>3.0</td>\n",
              "    </tr>\n",
              "    <tr>\n",
              "      <th>1</th>\n",
              "      <td>TV</td>\n",
              "      <td>0.049</td>\n",
              "      <td>3.0</td>\n",
              "      <td>0.023</td>\n",
              "      <td>0.0</td>\n",
              "    </tr>\n",
              "    <tr>\n",
              "      <th>2</th>\n",
              "      <td>SEO</td>\n",
              "      <td>0.024</td>\n",
              "      <td>0.0</td>\n",
              "      <td>0.024</td>\n",
              "      <td>0.0</td>\n",
              "    </tr>\n",
              "    <tr>\n",
              "      <th>3</th>\n",
              "      <td>AdWords</td>\n",
              "      <td>0.039</td>\n",
              "      <td>1.0</td>\n",
              "      <td>0.039</td>\n",
              "      <td>1.0</td>\n",
              "    </tr>\n",
              "    <tr>\n",
              "      <th>4</th>\n",
              "      <td>Facebook</td>\n",
              "      <td>0.016</td>\n",
              "      <td>0.0</td>\n",
              "      <td>0.044</td>\n",
              "      <td>3.0</td>\n",
              "    </tr>\n",
              "    <tr>\n",
              "      <th>5</th>\n",
              "      <td>LinkedIn</td>\n",
              "      <td>0.024</td>\n",
              "      <td>0.0</td>\n",
              "      <td>0.046</td>\n",
              "      <td>3.0</td>\n",
              "    </tr>\n",
              "    <tr>\n",
              "      <th>6</th>\n",
              "      <td>Instagram</td>\n",
              "      <td>0.046</td>\n",
              "      <td>3.0</td>\n",
              "      <td>0.026</td>\n",
              "      <td>0.0</td>\n",
              "    </tr>\n",
              "    <tr>\n",
              "      <th>7</th>\n",
              "      <td>Snapchat</td>\n",
              "      <td>0.026</td>\n",
              "      <td>0.0</td>\n",
              "      <td>0.019</td>\n",
              "      <td>0.0</td>\n",
              "    </tr>\n",
              "    <tr>\n",
              "      <th>8</th>\n",
              "      <td>Twitter</td>\n",
              "      <td>0.033</td>\n",
              "      <td>0.0</td>\n",
              "      <td>0.037</td>\n",
              "      <td>0.0</td>\n",
              "    </tr>\n",
              "    <tr>\n",
              "      <th>9</th>\n",
              "      <td>Email</td>\n",
              "      <td>0.044</td>\n",
              "      <td>3.0</td>\n",
              "      <td>0.026</td>\n",
              "      <td>0.0</td>\n",
              "    </tr>\n",
              "  </tbody>\n",
              "</table>\n",
              "</div>\n",
              "    <div class=\"colab-df-buttons\">\n",
              "\n",
              "  <div class=\"colab-df-container\">\n",
              "    <button class=\"colab-df-convert\" onclick=\"convertToInteractive('df-e1dc3c89-f3bb-4bab-b861-aca18e9ea202')\"\n",
              "            title=\"Convert this dataframe to an interactive table.\"\n",
              "            style=\"display:none;\">\n",
              "\n",
              "  <svg xmlns=\"http://www.w3.org/2000/svg\" height=\"24px\" viewBox=\"0 -960 960 960\">\n",
              "    <path d=\"M120-120v-720h720v720H120Zm60-500h600v-160H180v160Zm220 220h160v-160H400v160Zm0 220h160v-160H400v160ZM180-400h160v-160H180v160Zm440 0h160v-160H620v160ZM180-180h160v-160H180v160Zm440 0h160v-160H620v160Z\"/>\n",
              "  </svg>\n",
              "    </button>\n",
              "\n",
              "  <style>\n",
              "    .colab-df-container {\n",
              "      display:flex;\n",
              "      gap: 12px;\n",
              "    }\n",
              "\n",
              "    .colab-df-convert {\n",
              "      background-color: #E8F0FE;\n",
              "      border: none;\n",
              "      border-radius: 50%;\n",
              "      cursor: pointer;\n",
              "      display: none;\n",
              "      fill: #1967D2;\n",
              "      height: 32px;\n",
              "      padding: 0 0 0 0;\n",
              "      width: 32px;\n",
              "    }\n",
              "\n",
              "    .colab-df-convert:hover {\n",
              "      background-color: #E2EBFA;\n",
              "      box-shadow: 0px 1px 2px rgba(60, 64, 67, 0.3), 0px 1px 3px 1px rgba(60, 64, 67, 0.15);\n",
              "      fill: #174EA6;\n",
              "    }\n",
              "\n",
              "    .colab-df-buttons div {\n",
              "      margin-bottom: 4px;\n",
              "    }\n",
              "\n",
              "    [theme=dark] .colab-df-convert {\n",
              "      background-color: #3B4455;\n",
              "      fill: #D2E3FC;\n",
              "    }\n",
              "\n",
              "    [theme=dark] .colab-df-convert:hover {\n",
              "      background-color: #434B5C;\n",
              "      box-shadow: 0px 1px 3px 1px rgba(0, 0, 0, 0.15);\n",
              "      filter: drop-shadow(0px 1px 2px rgba(0, 0, 0, 0.3));\n",
              "      fill: #FFFFFF;\n",
              "    }\n",
              "  </style>\n",
              "\n",
              "    <script>\n",
              "      const buttonEl =\n",
              "        document.querySelector('#df-e1dc3c89-f3bb-4bab-b861-aca18e9ea202 button.colab-df-convert');\n",
              "      buttonEl.style.display =\n",
              "        google.colab.kernel.accessAllowed ? 'block' : 'none';\n",
              "\n",
              "      async function convertToInteractive(key) {\n",
              "        const element = document.querySelector('#df-e1dc3c89-f3bb-4bab-b861-aca18e9ea202');\n",
              "        const dataTable =\n",
              "          await google.colab.kernel.invokeFunction('convertToInteractive',\n",
              "                                                    [key], {});\n",
              "        if (!dataTable) return;\n",
              "\n",
              "        const docLinkHtml = 'Like what you see? Visit the ' +\n",
              "          '<a target=\"_blank\" href=https://colab.research.google.com/notebooks/data_table.ipynb>data table notebook</a>'\n",
              "          + ' to learn more about interactive tables.';\n",
              "        element.innerHTML = '';\n",
              "        dataTable['output_type'] = 'display_data';\n",
              "        await google.colab.output.renderOutput(dataTable, element);\n",
              "        const docLink = document.createElement('div');\n",
              "        docLink.innerHTML = docLinkHtml;\n",
              "        element.appendChild(docLink);\n",
              "      }\n",
              "    </script>\n",
              "  </div>\n",
              "\n",
              "\n",
              "<div id=\"df-1f730d12-3970-4f60-9fc1-88388345a233\">\n",
              "  <button class=\"colab-df-quickchart\" onclick=\"quickchart('df-1f730d12-3970-4f60-9fc1-88388345a233')\"\n",
              "            title=\"Suggest charts.\"\n",
              "            style=\"display:none;\">\n",
              "\n",
              "<svg xmlns=\"http://www.w3.org/2000/svg\" height=\"24px\"viewBox=\"0 0 24 24\"\n",
              "     width=\"24px\">\n",
              "    <g>\n",
              "        <path d=\"M19 3H5c-1.1 0-2 .9-2 2v14c0 1.1.9 2 2 2h14c1.1 0 2-.9 2-2V5c0-1.1-.9-2-2-2zM9 17H7v-7h2v7zm4 0h-2V7h2v10zm4 0h-2v-4h2v4z\"/>\n",
              "    </g>\n",
              "</svg>\n",
              "  </button>\n",
              "\n",
              "<style>\n",
              "  .colab-df-quickchart {\n",
              "      --bg-color: #E8F0FE;\n",
              "      --fill-color: #1967D2;\n",
              "      --hover-bg-color: #E2EBFA;\n",
              "      --hover-fill-color: #174EA6;\n",
              "      --disabled-fill-color: #AAA;\n",
              "      --disabled-bg-color: #DDD;\n",
              "  }\n",
              "\n",
              "  [theme=dark] .colab-df-quickchart {\n",
              "      --bg-color: #3B4455;\n",
              "      --fill-color: #D2E3FC;\n",
              "      --hover-bg-color: #434B5C;\n",
              "      --hover-fill-color: #FFFFFF;\n",
              "      --disabled-bg-color: #3B4455;\n",
              "      --disabled-fill-color: #666;\n",
              "  }\n",
              "\n",
              "  .colab-df-quickchart {\n",
              "    background-color: var(--bg-color);\n",
              "    border: none;\n",
              "    border-radius: 50%;\n",
              "    cursor: pointer;\n",
              "    display: none;\n",
              "    fill: var(--fill-color);\n",
              "    height: 32px;\n",
              "    padding: 0;\n",
              "    width: 32px;\n",
              "  }\n",
              "\n",
              "  .colab-df-quickchart:hover {\n",
              "    background-color: var(--hover-bg-color);\n",
              "    box-shadow: 0 1px 2px rgba(60, 64, 67, 0.3), 0 1px 3px 1px rgba(60, 64, 67, 0.15);\n",
              "    fill: var(--button-hover-fill-color);\n",
              "  }\n",
              "\n",
              "  .colab-df-quickchart-complete:disabled,\n",
              "  .colab-df-quickchart-complete:disabled:hover {\n",
              "    background-color: var(--disabled-bg-color);\n",
              "    fill: var(--disabled-fill-color);\n",
              "    box-shadow: none;\n",
              "  }\n",
              "\n",
              "  .colab-df-spinner {\n",
              "    border: 2px solid var(--fill-color);\n",
              "    border-color: transparent;\n",
              "    border-bottom-color: var(--fill-color);\n",
              "    animation:\n",
              "      spin 1s steps(1) infinite;\n",
              "  }\n",
              "\n",
              "  @keyframes spin {\n",
              "    0% {\n",
              "      border-color: transparent;\n",
              "      border-bottom-color: var(--fill-color);\n",
              "      border-left-color: var(--fill-color);\n",
              "    }\n",
              "    20% {\n",
              "      border-color: transparent;\n",
              "      border-left-color: var(--fill-color);\n",
              "      border-top-color: var(--fill-color);\n",
              "    }\n",
              "    30% {\n",
              "      border-color: transparent;\n",
              "      border-left-color: var(--fill-color);\n",
              "      border-top-color: var(--fill-color);\n",
              "      border-right-color: var(--fill-color);\n",
              "    }\n",
              "    40% {\n",
              "      border-color: transparent;\n",
              "      border-right-color: var(--fill-color);\n",
              "      border-top-color: var(--fill-color);\n",
              "    }\n",
              "    60% {\n",
              "      border-color: transparent;\n",
              "      border-right-color: var(--fill-color);\n",
              "    }\n",
              "    80% {\n",
              "      border-color: transparent;\n",
              "      border-right-color: var(--fill-color);\n",
              "      border-bottom-color: var(--fill-color);\n",
              "    }\n",
              "    90% {\n",
              "      border-color: transparent;\n",
              "      border-bottom-color: var(--fill-color);\n",
              "    }\n",
              "  }\n",
              "</style>\n",
              "\n",
              "  <script>\n",
              "    async function quickchart(key) {\n",
              "      const quickchartButtonEl =\n",
              "        document.querySelector('#' + key + ' button');\n",
              "      quickchartButtonEl.disabled = true;  // To prevent multiple clicks.\n",
              "      quickchartButtonEl.classList.add('colab-df-spinner');\n",
              "      try {\n",
              "        const charts = await google.colab.kernel.invokeFunction(\n",
              "            'suggestCharts', [key], {});\n",
              "      } catch (error) {\n",
              "        console.error('Error during call to suggestCharts:', error);\n",
              "      }\n",
              "      quickchartButtonEl.classList.remove('colab-df-spinner');\n",
              "      quickchartButtonEl.classList.add('colab-df-quickchart-complete');\n",
              "    }\n",
              "    (() => {\n",
              "      let quickchartButtonEl =\n",
              "        document.querySelector('#df-1f730d12-3970-4f60-9fc1-88388345a233 button');\n",
              "      quickchartButtonEl.style.display =\n",
              "        google.colab.kernel.accessAllowed ? 'block' : 'none';\n",
              "    })();\n",
              "  </script>\n",
              "</div>\n",
              "    </div>\n",
              "  </div>\n"
            ]
          },
          "metadata": {},
          "execution_count": 25
        }
      ]
    },
    {
      "cell_type": "markdown",
      "source": [
        "> The two budget allocations are different but yield the same optimal value\n",
        "\n"
      ],
      "metadata": {
        "id": "l02GUu03LTwW"
      }
    },
    {
      "cell_type": "markdown",
      "source": [
        "### Combinations"
      ],
      "metadata": {
        "id": "AkNjEnk8OYxE"
      }
    },
    {
      "cell_type": "code",
      "source": [
        "# Multiply 'ROI 1st Firm' by 'Budget Alloc ($M) 2nd Firm' and sum the results\n",
        "df_1st_and_2nd['1st_roi_2nd_alloc'] = df_1st_and_2nd['ROI 1st Firm'] * df_1st_and_2nd['Budget Alloc ($M) 2nd Firm']\n",
        "roi_1st_alloc_2nd = df_1st_and_2nd['1st_roi_2nd_alloc'].sum()\n",
        "print(f\"1st Firm's ROI with 2nd Firm's Allocation: ${roi_1st_alloc_2nd:.3f}M\")\n",
        "print(f\"1st Firm's ROI with 1st Firm's Allocation: ${roi_1:.3f}M\")\n",
        "print(f\"Difference in ROI: ${(roi_1-roi_1st_alloc_2nd):.3f}M\")"
      ],
      "metadata": {
        "colab": {
          "base_uri": "https://localhost:8080/"
        },
        "id": "w7QIKbPsNnJn",
        "outputId": "901b37ed-1bae-4bff-f8c7-333be54c6230"
      },
      "execution_count": 39,
      "outputs": [
        {
          "output_type": "stream",
          "name": "stdout",
          "text": [
            "1st Firm's ROI with 2nd Firm's Allocation: $0.252M\n",
            "1st Firm's ROI with 1st Firm's Allocation: $0.456M\n",
            "Difference in ROI: $0.204M\n"
          ]
        }
      ]
    },
    {
      "cell_type": "code",
      "source": [
        "# Multiply 'ROI 1st Firm' by 'Budget Alloc ($M) 2nd Firm' and sum the results\n",
        "df_1st_and_2nd['2nd_roi_1st_alloc'] = df_1st_and_2nd['ROI 2nd Firm'] * df_1st_and_2nd['Budget Alloc ($M) 1st Firm']\n",
        "roi_2nd_alloc_1st = df_1st_and_2nd['2nd_roi_1st_alloc'].sum()\n",
        "print(f\"2nd Firm's ROI with 1st Firm's Allocation: ${roi_2nd_alloc_1st:.3f}M\")\n",
        "print(f\"2nd Firm's ROI with 2nd Firm's Allocation: ${roi_2:.3f}M\")\n",
        "print(f\"Difference in ROI: ${(roi_2-roi_2nd_alloc_1st):.3f}M\")"
      ],
      "metadata": {
        "colab": {
          "base_uri": "https://localhost:8080/"
        },
        "id": "oS3pC4soOnIG",
        "outputId": "6266bd8d-c745-4663-a70b-994522e243c9"
      },
      "execution_count": 40,
      "outputs": [
        {
          "output_type": "stream",
          "name": "stdout",
          "text": [
            "2nd Firm's ROI with 1st Firm's Allocation: $0.264M\n",
            "2nd Firm's ROI with 2nd Firm's Allocation: $0.456M\n",
            "Difference in ROI: $0.192M\n"
          ]
        }
      ]
    },
    {
      "cell_type": "markdown",
      "source": [
        "### 3rd Constraint Significance"
      ],
      "metadata": {
        "id": "-yB6in4QOa8P"
      }
    },
    {
      "cell_type": "code",
      "execution_count": 28,
      "metadata": {
        "id": "qqAe7ogaOkta"
      },
      "outputs": [],
      "source": [
        "# Create a Gurobi model\n",
        "ojMod3 = gp.Model(\"Budget_Allocation\")"
      ]
    },
    {
      "cell_type": "code",
      "execution_count": 29,
      "metadata": {
        "id": "RwvtWxqNOkt8"
      },
      "outputs": [],
      "source": [
        "# Define decision variables\n",
        "roi_values_1 = roi_csv_file_df.iloc[0, -10:].tolist()\n",
        "num_vars = len(roi_values_1)\n",
        "\n",
        "ojMod3X = ojMod3.addMVar(num_vars, name=\"x\")"
      ]
    },
    {
      "cell_type": "code",
      "execution_count": 30,
      "metadata": {
        "id": "cv57P5uQOkt9"
      },
      "outputs": [],
      "source": [
        "# Set the objective function\n",
        "obj_coeffs3 = roi_values_1\n",
        "ojMod3.setObjective(gp.quicksum(obj_coeffs3[i] * ojMod3X[i] for i in range(num_vars)), sense=gp.GRB.MAXIMIZE)"
      ]
    },
    {
      "cell_type": "code",
      "execution_count": 31,
      "metadata": {
        "colab": {
          "base_uri": "https://localhost:8080/"
        },
        "id": "8MDNsSiwOkt_",
        "outputId": "d8304095-9afc-4513-f345-37b795fccc73"
      },
      "outputs": [
        {
          "output_type": "execute_result",
          "data": {
            "text/plain": [
              "<MConstr () *awaiting model update*>"
            ]
          },
          "metadata": {},
          "execution_count": 31
        }
      ],
      "source": [
        "ojMod3.addConstr(gp.quicksum(ojMod3X[i] for i in range(num_vars)) <= 10, name=\"Budget_Constr\")\n",
        "ojMod3.addConstr(ojMod3X[0] + ojMod3X[1] <= ojMod3X[4] + ojMod3X[9], name=\"Print_TV_Constr\")\n",
        "ojMod3.addConstr(gp.quicksum(ojMod3X[i] for i in range(4, 9)) >= 2*(ojMod3X[2] + ojMod3X[3]), name=\"Social_Media_Constr\")"
      ]
    },
    {
      "cell_type": "code",
      "execution_count": 32,
      "metadata": {
        "id": "Bfk0JXY5OkuA"
      },
      "outputs": [],
      "source": [
        "ojMod3.Params.OutputFlag = 0\n",
        "ojMod3.optimize()"
      ]
    },
    {
      "cell_type": "code",
      "execution_count": 33,
      "metadata": {
        "colab": {
          "base_uri": "https://localhost:8080/"
        },
        "outputId": "31ed18c4-3ce6-450b-e1ab-2a36b4e4245a",
        "id": "5YB2eyg_OkuB"
      },
      "outputs": [
        {
          "output_type": "stream",
          "name": "stdout",
          "text": [
            "0.46499999999999997\n"
          ]
        }
      ],
      "source": [
        "print(f'{ojMod3.objVal}')"
      ]
    },
    {
      "cell_type": "code",
      "execution_count": 34,
      "metadata": {
        "colab": {
          "base_uri": "https://localhost:8080/"
        },
        "outputId": "4f4bb766-568a-4e5c-ea61-6877bd23b2c2",
        "id": "bpY9TaKtOkuC"
      },
      "outputs": [
        {
          "output_type": "stream",
          "name": "stdout",
          "text": [
            "[0. 5. 0. 0. 0. 0. 0. 0. 0. 5.]\n"
          ]
        }
      ],
      "source": [
        "print(f'{ojMod3X.x}')"
      ]
    },
    {
      "cell_type": "code",
      "source": [
        "budget_alloc_3 = [ojMod3X[i].x for i in range(num_vars)]\n",
        "\n",
        "df_3rd = pd.DataFrame({\n",
        "    \"Channel\": [\"Print\", \"TV\", \"SEO\", \"AdWords\" ,\"Facebook\", \"LinkedIn\", \"Instagram\", \"Snapchat\", \"Twitter\", \"Email\"],\n",
        "    \"Budget Alloc ($M)\": budget_alloc_3\n",
        "})\n",
        "\n",
        "# Calculate the total budget and total ROI\n",
        "budget_3 = sum(budget_alloc_3)\n",
        "roi_3 = sum(obj_coeffs3[i] * budget_alloc_3[i] for i in range(num_vars))\n",
        "\n",
        "# Print the DataFrame\n",
        "print(f\"1st Firm's Optimal Budget Allocation\\n{df_3rd}\")\n",
        "print(f\"{'Total Budget':25} ${budget_3:.3f}M\")\n",
        "print(f\"{'Total ROI':25} ${roi_3:.3f}M\")"
      ],
      "metadata": {
        "colab": {
          "base_uri": "https://localhost:8080/"
        },
        "outputId": "816d8afd-083c-4f3d-e697-55cab26171f7",
        "id": "4wN7KZM9OkuE"
      },
      "execution_count": 41,
      "outputs": [
        {
          "output_type": "stream",
          "name": "stdout",
          "text": [
            "1st Firm's Optimal Budget Allocation\n",
            "     Channel Budget Alloc ($M)\n",
            "0      Print               0.0\n",
            "1         TV               5.0\n",
            "2        SEO               0.0\n",
            "3    AdWords               0.0\n",
            "4   Facebook               0.0\n",
            "5   LinkedIn               0.0\n",
            "6  Instagram               0.0\n",
            "7   Snapchat               0.0\n",
            "8    Twitter               0.0\n",
            "9      Email               5.0\n",
            "Total Budget              $10.000M\n",
            "Total ROI                 $0.465M\n"
          ]
        }
      ]
    },
    {
      "cell_type": "markdown",
      "source": [
        "\n",
        "\n",
        "> Ignoring the third condition, yields different allocations for both 1st and 2nd firm but witht he same the Optimal ROI\n",
        "\n"
      ],
      "metadata": {
        "id": "VsSEZNYyRZ0z"
      }
    }
  ]
}